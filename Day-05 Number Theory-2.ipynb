{
 "cells": [
  {
   "cell_type": "code",
   "execution_count": 18,
   "metadata": {},
   "outputs": [],
   "source": [
    "# compute spf of all numbers in range(10**6) using seive ..\n",
    "# (Modified Sieve of erastotnes)..\n",
    "\n",
    "MAX= pow(10,6)+1\n",
    "p=[int(i&1 >0)  for i in range(MAX +1) ] # set 1 for odd -> 0 for even\n",
    "p[1]=0\n",
    "p[2]=1\n",
    "limit= int(pow(MAX,0.5))+1\n",
    "for i in range(2,limit):\n",
    "    if(p[i]):\n",
    "        for j in range(i*i, MAX, 2*i):\n",
    "            p[j]=0\n"
   ]
  },
  {
   "cell_type": "code",
   "execution_count": 19,
   "metadata": {},
   "outputs": [
    {
     "name": "stdout",
     "output_type": "stream",
     "text": [
      "2 3 5 7 11 13 17 19 23 29 31 37 41 43 47 53 59 61 67 71 73 79 83 89 97 "
     ]
    }
   ],
   "source": [
    "for i in range(100):\n",
    "    if(p[i]):\n",
    "        print(i,end=\" \")"
   ]
  },
  {
   "cell_type": "code",
   "execution_count": null,
   "metadata": {
    "collapsed": true
   },
   "outputs": [],
   "source": []
  },
  {
   "cell_type": "code",
   "execution_count": 20,
   "metadata": {
    "collapsed": true
   },
   "outputs": [],
   "source": [
    "MAX= pow(10,6)+1\n",
    "spf=[2- int(i&1 >0) for i in range(MAX +2) ] # set 1 for odd -> 2 for even\n",
    "\n",
    "limit= int(pow(MAX,0.5))+1\n",
    "for i in range(2,limit):\n",
    "    if(spf[i]==1):\n",
    "        spf[i]=i\n",
    "        for j in range(i*i, MAX+1, 2*i):\n",
    "            spf[j]=i\n",
    "    \n",
    "\n"
   ]
  },
  {
   "cell_type": "code",
   "execution_count": 17,
   "metadata": {},
   "outputs": [
    {
     "name": "stdout",
     "output_type": "stream",
     "text": [
      "0 2\n",
      "1 1\n",
      "2 2\n",
      "3 3\n",
      "4 2\n",
      "5 5\n",
      "6 2\n",
      "7 7\n",
      "8 2\n",
      "9 3\n",
      "10 2\n",
      "11 11\n",
      "12 2\n",
      "13 13\n",
      "14 2\n",
      "15 3\n",
      "16 2\n",
      "17 17\n",
      "18 2\n",
      "19 19\n",
      "20 2\n",
      "21 3\n",
      "22 2\n",
      "23 23\n",
      "24 2\n",
      "25 5\n",
      "26 2\n",
      "27 3\n",
      "28 2\n",
      "29 29\n",
      "30 2\n",
      "31 31\n",
      "32 2\n",
      "33 3\n",
      "34 2\n",
      "35 5\n",
      "36 2\n",
      "37 37\n",
      "38 2\n",
      "39 3\n",
      "40 2\n",
      "41 41\n",
      "42 2\n",
      "43 43\n",
      "44 2\n",
      "45 5\n",
      "46 2\n",
      "47 47\n",
      "48 2\n",
      "49 7\n",
      "50 2\n",
      "51 3\n",
      "52 2\n",
      "53 53\n",
      "54 2\n",
      "55 5\n",
      "56 2\n",
      "57 3\n",
      "58 2\n",
      "59 59\n",
      "60 2\n",
      "61 61\n",
      "62 2\n",
      "63 7\n",
      "64 2\n",
      "65 5\n",
      "66 2\n",
      "67 67\n",
      "68 2\n",
      "69 3\n",
      "70 2\n",
      "71 71\n",
      "72 2\n",
      "73 73\n",
      "74 2\n",
      "75 5\n",
      "76 2\n",
      "77 7\n",
      "78 2\n",
      "79 79\n",
      "80 2\n",
      "81 3\n",
      "82 2\n",
      "83 83\n",
      "84 2\n",
      "85 5\n",
      "86 2\n",
      "87 3\n",
      "88 2\n",
      "89 89\n",
      "90 2\n",
      "91 7\n",
      "92 2\n",
      "93 3\n",
      "94 2\n",
      "95 5\n",
      "96 2\n",
      "97 97\n",
      "98 2\n",
      "99 3\n"
     ]
    }
   ],
   "source": [
    "for i in range(100):\n",
    "    print(i,spf[i])"
   ]
  },
  {
   "cell_type": "code",
   "execution_count": null,
   "metadata": {
    "collapsed": true
   },
   "outputs": [],
   "source": []
  }
 ],
 "metadata": {
  "kernelspec": {
   "display_name": "Python 3",
   "language": "python",
   "name": "python3"
  },
  "language_info": {
   "codemirror_mode": {
    "name": "ipython",
    "version": 3
   },
   "file_extension": ".py",
   "mimetype": "text/x-python",
   "name": "python",
   "nbconvert_exporter": "python",
   "pygments_lexer": "ipython3",
   "version": "3.6.3"
  }
 },
 "nbformat": 4,
 "nbformat_minor": 2
}
