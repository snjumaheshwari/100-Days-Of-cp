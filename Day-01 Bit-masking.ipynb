{
 "cells": [
  {
   "cell_type": "code",
   "execution_count": 7,
   "metadata": {},
   "outputs": [
    {
     "name": "stdout",
     "output_type": "stream",
     "text": [
      "1\n",
      "5\n",
      "8\n"
     ]
    }
   ],
   "source": [
    "# codechef Lucky Number SAND04 -> AC\n",
    "\n",
    "MOD=pow(10,9)+7\n",
    "test=int(input())\n",
    "for i in range(test):\n",
    "    num=int(input())\n",
    "    #n number of bits of num\n",
    "    m=num\n",
    "    n=0\n",
    "    while(m!=0):\n",
    "        n+=1\n",
    "        m=m>>1\n",
    "    #print(\"number of bits\",n)\n",
    "    # consider all the answers of n-1 bits\n",
    "    m=n-1\n",
    "    ans1=((m-1)*(pow(2,m)-1))%MOD\n",
    "    #print(\"prev bits answer\",ans1)\n",
    "    \n",
    "    # for answer of n bits\n",
    "    \n",
    "    num=num-pow(2,n-1)\n",
    "    \n",
    "    i=0\n",
    "    x=1 # x=pow(2,i)\n",
    "    while(x<=num):\n",
    "        i+=1\n",
    "        x=pow(2,i)\n",
    "        \n",
    "    #print(i)\n",
    "    ans2=(pow(2,i)-1)%MOD + ((i)*pow(2,n-1))%MOD\n",
    "    print((ans1+ans2)%MOD)\n",
    "        \n",
    "    \n",
    "    \n",
    "    "
   ]
  },
  {
   "cell_type": "code",
   "execution_count": null,
   "metadata": {
    "collapsed": true
   },
   "outputs": [],
   "source": []
  },
  {
   "cell_type": "code",
   "execution_count": 35,
   "metadata": {
    "collapsed": true
   },
   "outputs": [],
   "source": [
    " # BITWISE Operator..\n",
    "    \n",
    "# n<<i = n*pow(2,i)\n",
    "# n>>i = n // pow(2,i)\n",
    "\n",
    "n=10801910191\n",
    "    \n",
    "for i in range(10000):\n",
    "    if(pow(2,i)==(1<<i)):\n",
    "        pass\n",
    "    else:\n",
    "        print(\"fail left shift\")\n",
    "for i in range(100):\n",
    "    if(n>>i == n// pow(2,i)):\n",
    "        pass\n",
    "    else:\n",
    "        print(\"fail right shift\")"
   ]
  },
  {
   "cell_type": "code",
   "execution_count": null,
   "metadata": {
    "collapsed": true
   },
   "outputs": [],
   "source": [
    "# & Bitwise and => 1 if both are one\n",
    "# | bitwise or => 0 if both are zero\n",
    "# ^ bitwise xor => 1 if both are differnet\n"
   ]
  },
  {
   "cell_type": "code",
   "execution_count": null,
   "metadata": {
    "collapsed": true
   },
   "outputs": [],
   "source": [
    "# bitwise operators are very fast.. operates on bits"
   ]
  },
  {
   "cell_type": "code",
   "execution_count": null,
   "metadata": {
    "collapsed": true
   },
   "outputs": [],
   "source": [
    "# => (n&1) is 1 if n is even else 0\n",
    "# => (n & (n-1)) removes last set bit\n"
   ]
  },
  {
   "cell_type": "code",
   "execution_count": 57,
   "metadata": {},
   "outputs": [
    {
     "name": "stdout",
     "output_type": "stream",
     "text": [
      "5 6\n",
      "6 5\n"
     ]
    }
   ],
   "source": [
    "# xor swapping\n",
    "a,b=map(int,input().split())\n",
    "a=a^b\n",
    "b=a^b\n",
    "a=a^b\n",
    "print(a,b)\n"
   ]
  },
  {
   "cell_type": "code",
   "execution_count": 63,
   "metadata": {},
   "outputs": [
    {
     "name": "stdout",
     "output_type": "stream",
     "text": [
      "13 1\n",
      "0\n"
     ]
    }
   ],
   "source": [
    "# extract ith bit of a number\n",
    "# 13 =   1 1 0 1\n",
    "# mask = 0 1 0 0  ( i=2  )\n",
    "# ans is 1 (if n & (1 <<i) !=0)\n",
    "n,i =map(int,input().split())\n",
    "if(n& (1<<i)):\n",
    "    print(1)\n",
    "else:\n",
    "    print(0)\n"
   ]
  },
  {
   "cell_type": "code",
   "execution_count": 66,
   "metadata": {},
   "outputs": [
    {
     "name": "stdout",
     "output_type": "stream",
     "text": [
      "13 1\n",
      "15\n"
     ]
    }
   ],
   "source": [
    "# set the ith bit of a number\n",
    "#ans is ( n | ( 1<<i))\n",
    "n,i=map(int,input().split())\n",
    "ans=n | ( 1<<i)\n",
    "print(ans)"
   ]
  },
  {
   "cell_type": "code",
   "execution_count": 70,
   "metadata": {},
   "outputs": [
    {
     "name": "stdout",
     "output_type": "stream",
     "text": [
      "13 2\n",
      "9\n"
     ]
    }
   ],
   "source": [
    "# clear the ith bit of a number\n",
    "\n",
    "# 1<<i =>  0 0 0 0 0 1 0  ( 1 at ith index here i =1)\n",
    "# ~( 1<<i) => 1 1 1 1 0 1 \n",
    "n,i=map(int,input().split())\n",
    "ans= n & ( ~(1<<i))\n",
    "print(ans)\n"
   ]
  },
  {
   "cell_type": "code",
   "execution_count": 32,
   "metadata": {},
   "outputs": [
    {
     "name": "stdout",
     "output_type": "stream",
     "text": [
      "474\n",
      "9\n"
     ]
    }
   ],
   "source": [
    "# http://codeforces.com/problemset/problem/535/B\n",
    " # tavvas and saddas -> accepted\n",
    "\n",
    "num=input().strip()\n",
    "n=len(num)\n",
    "ans1= 2* (pow(2,n-1)-1)\n",
    "\n",
    "#print(ans1)\n",
    "j=n-1\n",
    "ans2=0\n",
    "for i in num:\n",
    "    if(i=='7'):\n",
    "        ans2+= pow(2,j)\n",
    "    j=j-1\n",
    "#print(ans2)\n",
    "print(ans1+ans2+1)\n"
   ]
  },
  {
   "cell_type": "code",
   "execution_count": 31,
   "metadata": {},
   "outputs": [
    {
     "name": "stdout",
     "output_type": "stream",
     "text": [
      "474\n",
      "9\n"
     ]
    }
   ],
   "source": [
    "# http://codeforces.com/problemset/problem/535/B\n",
    " # tavvas and saddas (alternate approach) _ accepted\n",
    "\n",
    "num=input().strip()\n",
    "ans=['1']\n",
    "for i in num:\n",
    "    if(i=='4'):\n",
    "        ans.append('0')\n",
    "    else:\n",
    "        ans.append('1')\n",
    "\n",
    "#print(ans)\n",
    "ans=\"\".join(ans)\n",
    "\n",
    "ans=int(ans,base=2)-1\n",
    "print(ans)\n"
   ]
  },
  {
   "cell_type": "code",
   "execution_count": 17,
   "metadata": {},
   "outputs": [
    {
     "name": "stdout",
     "output_type": "stream",
     "text": [
      "7\n",
      "2 5 4 5 2 6 4\n",
      "6\n"
     ]
    }
   ],
   "source": [
    "# find the elemnets that occur once .. all number occur twice\n",
    "# https://www.hackerrank.com/challenges/lonely-integer/problem\n",
    "    \n",
    "n=int(input())\n",
    "arr=list(map(int,input().split()))\n",
    "\n",
    "xor=0\n",
    "for i in arr:\n",
    "    xor=xor ^ i\n",
    "print(xor)"
   ]
  },
  {
   "cell_type": "code",
   "execution_count": 83,
   "metadata": {},
   "outputs": [
    {
     "name": "stdout",
     "output_type": "stream",
     "text": [
      "8\n",
      "2 1 4 3 2 1 6 6\n",
      "[1, 3, 1] [2, 4, 2, 6, 6]\n",
      "3 4\n"
     ]
    }
   ],
   "source": [
    "# all number occuring twice except 2 number\n",
    "n=int(input())\n",
    "arr=list(map(int,input().split()))\n",
    "\n",
    "xor=0\n",
    "for i in arr:\n",
    "    xor=xor^i\n",
    "    \n",
    "# find position of rightmost set bit of xor\n",
    "# divide the array into two parts \n",
    "# xor of each part gives each answer\n",
    "\n",
    "n=xor\n",
    "\n",
    "arr1=[]\n",
    "x,y=0,0\n",
    "arr2=[]\n",
    "mask=n- (n& (n-1))\n",
    "for num in arr:\n",
    "    if(num & mask):\n",
    "        arr1.append(num)\n",
    "        x=x^num\n",
    "    else:\n",
    "        arr2.append(num)\n",
    "        y=y^num\n",
    "print(arr1,arr2)\n",
    "\n",
    "print(x,y)"
   ]
  },
  {
   "cell_type": "code",
   "execution_count": 38,
   "metadata": {},
   "outputs": [
    {
     "name": "stdout",
     "output_type": "stream",
     "text": [
      "11\n",
      "100\n",
      "127\n"
     ]
    }
   ],
   "source": [
    "# maximizing xor\n",
    "# www.hackerrank.com/challenges/maximizing-xor/problem\n",
    "l=int(input())\n",
    "r=int(input())\n",
    "xor=l ^ r\n",
    "\n",
    "n=0\n",
    "m=xor\n",
    "while(m!=0):\n",
    "    m=m>>1\n",
    "    n+=1\n",
    "ans=(1<<n)-1\n",
    "print(ans)"
   ]
  },
  {
   "cell_type": "code",
   "execution_count": 21,
   "metadata": {},
   "outputs": [
    {
     "name": "stdout",
     "output_type": "stream",
     "text": [
      "10\n",
      "1 1 1 2 2 2 3 3 3 4\n",
      "[6, 6, 1, 0, 0, 0, 0, 0, 0, 0, 0, 0, 0, 0, 0, 0, 0, 0, 0, 0, 0, 0, 0, 0, 0, 0, 0, 0, 0, 0, 0, 0, 0, 0, 0, 0, 0, 0, 0, 0, 0, 0, 0, 0, 0, 0, 0, 0, 0, 0, 0, 0, 0, 0, 0, 0, 0, 0, 0, 0, 0, 0, 0, 0]\n",
      "4\n"
     ]
    }
   ],
   "source": [
    "# find the elememts that occur once.. all number occur thrice\n",
    "n=int(input())\n",
    "arr=list(map(int,input().split()))\n",
    "\n",
    "bits=[0]*64\n",
    "for i in arr:\n",
    "    num=i\n",
    "    j=0\n",
    "    while(num!=0):\n",
    "        bits[j]+=(num&1)\n",
    "        num=num>>1\n",
    "        j+=1\n",
    "print(bits)\n",
    "ans=0\n",
    "for i in range(64):\n",
    "    ans+=(bits[i]%3) * pow(2,i)\n",
    "print(ans)\n",
    "    "
   ]
  },
  {
   "cell_type": "code",
   "execution_count": 44,
   "metadata": {},
   "outputs": [
    {
     "name": "stdout",
     "output_type": "stream",
     "text": [
      "-2 -3\n"
     ]
    },
    {
     "data": {
      "text/plain": [
       "False"
      ]
     },
     "execution_count": 44,
     "metadata": {},
     "output_type": "execute_result"
    }
   ],
   "source": [
    "# geeks for geeks\n",
    "# detects if 2 numbers have opposite sign\n",
    "\n",
    "# -1 => 1111 1111\n",
    "# negative number are stored in the 2's compliment form..\n",
    "# first bit 1 indicates it is negative number\n",
    "\n",
    "# if one is positive and one is negative \n",
    "# => xor first bit will be 1 => xor negative \n",
    "def fun(n,m):\n",
    "    if(n ^m <0):\n",
    "        return True\n",
    "    else:\n",
    "        return False\n",
    "n,m=map(int,input().split())\n",
    "fun(n,m)\n",
    "    "
   ]
  },
  {
   "cell_type": "code",
   "execution_count": 41,
   "metadata": {},
   "outputs": [
    {
     "name": "stdout",
     "output_type": "stream",
     "text": [
      "0\n",
      "-2\n",
      "-4\n",
      "-2\n",
      "-8\n",
      "-2\n",
      "-4\n",
      "-2\n",
      "-16\n",
      "-2\n"
     ]
    }
   ],
   "source": [
    "for i in range(10):\n",
    "    print( i ^ (-i))"
   ]
  },
  {
   "cell_type": "code",
   "execution_count": 51,
   "metadata": {},
   "outputs": [
    {
     "name": "stdout",
     "output_type": "stream",
     "text": [
      "-97\n",
      "ODD\n"
     ]
    }
   ],
   "source": [
    "\n",
    "# check if the number is even or odd\n",
    "\n",
    "# will works well with negative number as well\n",
    "n=int(input())\n",
    "if(n&1):\n",
    "    print(\"ODD\")\n",
    "else:\n",
    "    print(\"EVEN\")\n",
    "\n"
   ]
  },
  {
   "cell_type": "code",
   "execution_count": 56,
   "metadata": {},
   "outputs": [
    {
     "name": "stdout",
     "output_type": "stream",
     "text": [
      "98 191\n",
      "221\n",
      "6\n"
     ]
    }
   ],
   "source": [
    "# number of bits require to change a number a to b\n",
    "a,b=map(int,input().split())\n",
    "xor=a^b\n",
    "\n",
    "# answer is number of set bit in xor\n",
    "n=xor\n",
    "count=0\n",
    "print(n)\n",
    "while(n>0):\n",
    "    count+=1\n",
    "    n=n & (n-1)\n",
    "print(count)"
   ]
  },
  {
   "cell_type": "code",
   "execution_count": 1,
   "metadata": {},
   "outputs": [
    {
     "name": "stdout",
     "output_type": "stream",
     "text": [
      "acd\n",
      "\n",
      "a\n",
      "c\n",
      "ac\n",
      "d\n",
      "ad\n",
      "cd\n",
      "acd\n"
     ]
    }
   ],
   "source": [
    "# find subsequennces of a string \n",
    "# abc => a,b,c,ab,ac,bc,abc\n",
    "\n",
    "string=input().strip()\n",
    "n=len(string)\n",
    "for i in range(1<<n):\n",
    "    num=i\n",
    "    j=0\n",
    "    ans=[]\n",
    "    while(num!=0):\n",
    "        if(num&1):\n",
    "            ans.append(string[j])\n",
    "        j+=1\n",
    "        num=num>>1\n",
    "    print(\"\".join(ans))"
   ]
  },
  {
   "cell_type": "code",
   "execution_count": 77,
   "metadata": {},
   "outputs": [
    {
     "name": "stdout",
     "output_type": "stream",
     "text": [
      "4\n",
      "3 3\n",
      "1\n",
      "1\n",
      "1\n",
      "YES\n",
      "5 11\n",
      "1\n",
      "2\n",
      "3\n",
      "4\n",
      "5\n",
      "YES\n",
      "5 11\n",
      "1\n",
      "2\n",
      "4\n",
      "8\n",
      "16\n",
      "YES\n",
      "5 23\n",
      "1\n",
      "2\n",
      "3\n",
      "4\n",
      "5\n",
      "NO\n"
     ]
    }
   ],
   "source": [
    "# codechef marcha 1 paying up\n",
    "test=int(input())\n",
    "for i in range(test):\n",
    "    n,m=map(int,input().split())\n",
    "    arr=[int(input()) for i in range(n)]\n",
    "    \n",
    "    for i in range(1<<n):\n",
    "        num=i\n",
    "        j=0\n",
    "        ans=0\n",
    "        while(num!=0):\n",
    "            if(num&1):\n",
    "                ans+=arr[j]\n",
    "            j+=1\n",
    "            num=num>>1\n",
    "        if(ans==m):\n",
    "            print(\"YES\")\n",
    "            break\n",
    "    else:\n",
    "        print(\"NO\")\n",
    "        \n"
   ]
  },
  {
   "cell_type": "code",
   "execution_count": 81,
   "metadata": {},
   "outputs": [
    {
     "name": "stdout",
     "output_type": "stream",
     "text": [
      "1\n",
      "3 3\n",
      "1\n",
      "1\n",
      "1\n",
      "Yes\n"
     ]
    }
   ],
   "source": [
    "# alternate solution\n",
    "\n",
    "def fun(arr,n,m,i=0,ans=0):\n",
    "    if(ans==m):\n",
    "        return True\n",
    "    if(i>=n):\n",
    "        return False\n",
    "    if(ans>m):\n",
    "        return False\n",
    "    return fun(arr,n,m,i+1,ans) or fun(arr,n,m,i+1,ans+arr[i])\n",
    "\n",
    "test=int(input())\n",
    "for i in range(test):\n",
    "    n,m=map(int,input().split())\n",
    "    arr=[int(input()) for i in range(n)]\n",
    "    if(fun(arr,n,m)):\n",
    "        print(\"Yes\")\n",
    "    else:\n",
    "        print(\"No\")\n",
    "    \n"
   ]
  }
 ],
 "metadata": {
  "kernelspec": {
   "display_name": "Python 3",
   "language": "python",
   "name": "python3"
  },
  "language_info": {
   "codemirror_mode": {
    "name": "ipython",
    "version": 3
   },
   "file_extension": ".py",
   "mimetype": "text/x-python",
   "name": "python",
   "nbconvert_exporter": "python",
   "pygments_lexer": "ipython3",
   "version": "3.6.3"
  }
 },
 "nbformat": 4,
 "nbformat_minor": 2
}
