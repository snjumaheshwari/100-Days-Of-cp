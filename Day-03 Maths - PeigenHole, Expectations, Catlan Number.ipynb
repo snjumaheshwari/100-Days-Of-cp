{
 "cells": [
  {
   "cell_type": "code",
   "execution_count": 1,
   "metadata": {
    "collapsed": true
   },
   "outputs": [],
   "source": [
    "# Peigen Hole Principle :- \n",
    "#     If you have 6 peigens , and you have 5 peigen holes, \n",
    "#  then there is atlaest one hole which contains 2 peigens..\n",
    "\n",
    "# in general, if we have N peigen Holes and we need to put more than N peigens into it \n",
    "# then there is atleast one hole contains more than 1 peigens.\n"
   ]
  },
  {
   "cell_type": "code",
   "execution_count": 6,
   "metadata": {},
   "outputs": [
    {
     "name": "stdout",
     "output_type": "stream",
     "text": [
      "1\n",
      "3\n",
      "4 6 10\n",
      "1\n"
     ]
    }
   ],
   "source": [
    "# divisible subarrays\n",
    "\n",
    "\n",
    "test=int(input())\n",
    "for i in range(test):\n",
    "    n=int(input())\n",
    "    arr=list(map(int,input().split()))\n",
    "    d=dict()\n",
    "    d[0]=1 \n",
    "    s=0\n",
    "    for i in arr:\n",
    "        s  =(s+ i)%n \n",
    "        d[s]=d.get(s,0)+1 \n",
    "    ans=0\n",
    "    for i in d.keys():\n",
    "        ans = ans + (d[i]* (d[i]-1))//2\n",
    "    print(ans)\n",
    "        \n",
    "    "
   ]
  },
  {
   "cell_type": "code",
   "execution_count": 14,
   "metadata": {},
   "outputs": [
    {
     "name": "stdout",
     "output_type": "stream",
     "text": [
      "1\n",
      "3\n",
      "4 6 109\n",
      "1 2\n",
      "1\n",
      "2\n"
     ]
    }
   ],
   "source": [
    "# divisible subarrays codechef DIVSUBS\n",
    "\n",
    "\n",
    "test=int(input())\n",
    "for i in range(test):\n",
    "    n=int(input())\n",
    "    arr=list(map(int,input().split()))\n",
    "    d=dict()\n",
    "    d[0]=[0]\n",
    "    s=0\n",
    "    for i in range(n):\n",
    "        s  =(s+ arr[i])%n \n",
    "        if(not d.get(s,False)):\n",
    "            d[s]=[i+1]\n",
    "        else:\n",
    "            start=d[s][0]\n",
    "            end=i+1\n",
    "            #print(start,end)\n",
    "            print(end-start)\n",
    "            print(*list(range(start+1,end+1)))\n",
    "            break\n",
    "    else:\n",
    "        print(-1)\n",
    "        "
   ]
  },
  {
   "cell_type": "code",
   "execution_count": 11,
   "metadata": {},
   "outputs": [
    {
     "name": "stdout",
     "output_type": "stream",
     "text": [
      "5\n",
      "1 0 2 3 7'\n"
     ]
    },
    {
     "ename": "ValueError",
     "evalue": "invalid literal for int() with base 10: \"7'\"",
     "output_type": "error",
     "traceback": [
      "\u001b[1;31m---------------------------------------------------------------------------\u001b[0m",
      "\u001b[1;31mValueError\u001b[0m                                Traceback (most recent call last)",
      "\u001b[1;32m<ipython-input-11-221baf9e40ef>\u001b[0m in \u001b[0;36m<module>\u001b[1;34m()\u001b[0m\n\u001b[0;32m      5\u001b[0m \u001b[1;33m\u001b[0m\u001b[0m\n\u001b[0;32m      6\u001b[0m \u001b[0mn\u001b[0m\u001b[1;33m=\u001b[0m\u001b[0mint\u001b[0m\u001b[1;33m(\u001b[0m\u001b[0minput\u001b[0m\u001b[1;33m(\u001b[0m\u001b[1;33m)\u001b[0m\u001b[1;33m)\u001b[0m\u001b[1;33m\u001b[0m\u001b[0m\n\u001b[1;32m----> 7\u001b[1;33m \u001b[0marr\u001b[0m\u001b[1;33m=\u001b[0m\u001b[0mlist\u001b[0m\u001b[1;33m(\u001b[0m\u001b[0mmap\u001b[0m\u001b[1;33m(\u001b[0m\u001b[0mint\u001b[0m\u001b[1;33m,\u001b[0m\u001b[0minput\u001b[0m\u001b[1;33m(\u001b[0m\u001b[1;33m)\u001b[0m\u001b[1;33m.\u001b[0m\u001b[0msplit\u001b[0m\u001b[1;33m(\u001b[0m\u001b[1;33m)\u001b[0m\u001b[1;33m)\u001b[0m\u001b[1;33m)\u001b[0m\u001b[1;33m\u001b[0m\u001b[0m\n\u001b[0m\u001b[0;32m      8\u001b[0m \u001b[1;33m\u001b[0m\u001b[0m\n\u001b[0;32m      9\u001b[0m \u001b[1;32mdef\u001b[0m \u001b[0mfun\u001b[0m\u001b[1;33m(\u001b[0m\u001b[0mn\u001b[0m\u001b[1;33m,\u001b[0m\u001b[0marr\u001b[0m\u001b[1;33m)\u001b[0m\u001b[1;33m:\u001b[0m\u001b[1;33m\u001b[0m\u001b[0m\n",
      "\u001b[1;31mValueError\u001b[0m: invalid literal for int() with base 10: \"7'\""
     ]
    }
   ],
   "source": [
    "# GRAYSC Codechef\n",
    "\n",
    "# Gray Code -> each consecutive bit differs by 1 digit..\n",
    "# Therefore Xor of any 2 consecutive terms have one set bit ..\n",
    "\n",
    "n=int(input())\n",
    "arr=list(map(int,input().split()))\n",
    "\n",
    "def fun(n,arr):\n",
    "    if(n>=130):\n",
    "        return True\n",
    "    for i in range(n-3):\n",
    "        for j in range(i+1,n-2):\n",
    "            for k in range(j+1,n-1):\n",
    "                for o in range(k+1,n):\n",
    "                    if( (arr[i] ^ arr[j] ^ arr[k] ^ arr[o]) ==0):\n",
    "                        return True\n",
    "    return False\n",
    "\n",
    "if(fun(n,arr)):\n",
    "    print(\"Yes\")\n",
    "    \n",
    "else:\n",
    "    print(\"No\")\n",
    "                \n"
   ]
  },
  {
   "cell_type": "code",
   "execution_count": 13,
   "metadata": {},
   "outputs": [
    {
     "name": "stdout",
     "output_type": "stream",
     "text": [
      "0 1 2 3\n"
     ]
    },
    {
     "data": {
      "text/plain": [
       "True"
      ]
     },
     "execution_count": 13,
     "metadata": {},
     "output_type": "execute_result"
    }
   ],
   "source": [
    "fun(n,arr)"
   ]
  },
  {
   "cell_type": "code",
   "execution_count": 12,
   "metadata": {
    "collapsed": true
   },
   "outputs": [],
   "source": [
    "def fun(n,arr):\n",
    "    if(n>=130):\n",
    "        return True\n",
    "    for i in range(n-3):\n",
    "        for j in range(i+1,n-2):\n",
    "            for k in range(j+1,n-1):\n",
    "                for o in range(k+1,n):\n",
    "                    #print(i,j,k,o)\n",
    "                    if( (arr[i] ^ arr[j] ^ arr[k] ^ arr[o]) ==0):\n",
    "                        return True\n",
    "    return False\n",
    "\n",
    "                "
   ]
  },
  {
   "cell_type": "code",
   "execution_count": null,
   "metadata": {
    "collapsed": true
   },
   "outputs": [],
   "source": []
  }
 ],
 "metadata": {
  "kernelspec": {
   "display_name": "Python 3",
   "language": "python",
   "name": "python3"
  },
  "language_info": {
   "codemirror_mode": {
    "name": "ipython",
    "version": 3
   },
   "file_extension": ".py",
   "mimetype": "text/x-python",
   "name": "python",
   "nbconvert_exporter": "python",
   "pygments_lexer": "ipython3",
   "version": "3.6.3"
  }
 },
 "nbformat": 4,
 "nbformat_minor": 2
}
