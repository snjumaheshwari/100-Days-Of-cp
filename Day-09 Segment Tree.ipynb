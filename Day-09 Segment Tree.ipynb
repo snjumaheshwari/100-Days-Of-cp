{
 "cells": [
  {
   "cell_type": "code",
   "execution_count": 1,
   "metadata": {
    "collapsed": true
   },
   "outputs": [],
   "source": [
    "# DivMAC codechef"
   ]
  },
  {
   "cell_type": "code",
   "execution_count": 7,
   "metadata": {},
   "outputs": [
    {
     "name": "stdout",
     "output_type": "stream",
     "text": [
      "2\n",
      "6 7\n",
      "2 5 8 10 3 44\n",
      "1 2 6\n",
      "5 0 2 3\n",
      "1 2 6\n",
      "3 0 4 6\n",
      "1 1 6\n",
      "5 0 1 6\n",
      "1 4 6\n",
      "11 \n",
      "2 2\n",
      "1 3\n",
      "0 2 2\n",
      "1 1 2\n",
      "1 \n"
     ]
    }
   ],
   "source": [
    "# Brutte Force Solution.. -> TLE\n",
    "def spf(n):\n",
    "    i=2\n",
    "    while(i*i<=n):\n",
    "        if(n%i==0):\n",
    "            return i\n",
    "        i+=1\n",
    "    return n\n",
    "\n",
    "\n",
    "test=int(input())\n",
    "for t in range(test):\n",
    "    N,M=map(int,input().split())\n",
    "    arr=list(map(int,input().split()))\n",
    "    for j in range(M):\n",
    "        a,L,R=map(int,input().split())\n",
    "        L,R=L-1,R-1\n",
    "        if(a==0):\n",
    "            # update [L,R] divide by their spf\n",
    "            for i in range(L,R+1):\n",
    "                x=spf(arr[i])\n",
    "                arr[i]=arr[i]//x\n",
    "        else:\n",
    "            # get maximum spf in range [L,R]\n",
    "            maximum=1\n",
    "            for i in range(L,R+1):\n",
    "                x=spf(arr[i])\n",
    "                maximum=max(x,maximum)\n",
    "            print(maximum,end=\" \")\n",
    "    print()    \n",
    "            "
   ]
  },
  {
   "cell_type": "code",
   "execution_count": 13,
   "metadata": {},
   "outputs": [
    {
     "name": "stdout",
     "output_type": "stream",
     "text": [
      "2\n",
      "6 7\n",
      "2 5 8 10 3 44\n",
      "1 2 6\n",
      "5 0 2 3\n",
      "1 2 6\n",
      "3 0 4 6\n",
      "1 1 6\n",
      "5 0 1 6\n",
      "1 4 6\n",
      "11 \n",
      "2 2\n",
      "1 3 \n",
      "0 2 2\n",
      "1 1 2\n",
      "1 \n"
     ]
    }
   ],
   "source": [
    " # calculating SPF optimally using modified seive..\n",
    "\n",
    "\n",
    "MAX= pow(10,6)+1\n",
    "spf=[2- int(i&1 >0) for i in range(MAX +2) ] # set 1 for odd -> 2 for even\n",
    "\n",
    "limit= int(pow(MAX,0.5))+1\n",
    "for i in range(2,limit):\n",
    "    if(spf[i]==1):\n",
    "        spf[i]=i\n",
    "        for j in range(i*i, MAX+1, 2*i):\n",
    "            spf[j]=i\n",
    "            \n",
    "\n",
    "test=int(input())\n",
    "for t in range(test):\n",
    "    N,M=map(int,input().split())\n",
    "    arr=list(map(int,input().split()))\n",
    "    for j in range(M):\n",
    "        a,L,R=map(int,input().split())\n",
    "        L,R=L-1,R-1\n",
    "        if(a==0):\n",
    "            # update [L,R] divide by their spf\n",
    "            for i in range(L,R+1):\n",
    "                x=spf[arr[i]]\n",
    "                arr[i]=arr[i]//x\n",
    "        else:\n",
    "            # get maximum spf in range [L,R]\n",
    "            maximum=1\n",
    "            for i in range(L,R+1):\n",
    "                x=spf[arr[i]]\n",
    "                maximum=max(x,maximum)\n",
    "            print(maximum,end=\" \")\n",
    "    print()    \n",
    "            \n",
    "    \n",
    "    "
   ]
  },
  {
   "cell_type": "code",
   "execution_count": 14,
   "metadata": {},
   "outputs": [
    {
     "ename": "SyntaxError",
     "evalue": "invalid syntax (<ipython-input-14-bdcdb27fa9a1>, line 2)",
     "output_type": "error",
     "traceback": [
      "\u001b[1;36m  File \u001b[1;32m\"<ipython-input-14-bdcdb27fa9a1>\"\u001b[1;36m, line \u001b[1;32m2\u001b[0m\n\u001b[1;33m    6 7\u001b[0m\n\u001b[1;37m      ^\u001b[0m\n\u001b[1;31mSyntaxError\u001b[0m\u001b[1;31m:\u001b[0m invalid syntax\n"
     ]
    }
   ],
   "source": [
    "2\n",
    "6 7\n",
    "2 5 8 10 3 44\n",
    "1 2 6\n",
    "0 2 3\n",
    "1 2 6\n",
    "0 4 6\n",
    "1 1 6\n",
    "0 1 6\n",
    "1 4 6\n",
    "2 2\n",
    "1 3\n",
    "0 2 2\n",
    "1 1 2"
   ]
  },
  {
   "cell_type": "code",
   "execution_count": 17,
   "metadata": {},
   "outputs": [
    {
     "name": "stdout",
     "output_type": "stream",
     "text": [
      "2\n",
      "6 7\n",
      "2 5 8 10 3 44\n",
      "1 2 6\n",
      "5 0 2 3\n",
      "1 2 6\n",
      "3 0 4 6\n",
      "1 1 6\n",
      "5 0 1 6\n",
      "1 4 6\n",
      "11 \n",
      "2 2\n",
      "1 3\n",
      "0 2 2\n",
      "1 1 2\n",
      "1 \n"
     ]
    }
   ],
   "source": [
    "MAX= pow(10,6)+1\n",
    "spf=[2- int(i&1 >0) for i in range(MAX +2) ] # set 1 for odd -> 2 for even\n",
    "\n",
    "limit= int(pow(MAX,0.5))+1\n",
    "for i in range(2,limit):\n",
    "    if(spf[i]==1):\n",
    "        spf[i]=i\n",
    "        for j in range(i*i, MAX+1, 2*i):\n",
    "            spf[j]=i\n",
    "            \n",
    "            \n",
    "def BuildTree(ss,se,index):\n",
    "    global Tree,arr\n",
    "    if(ss==se):\n",
    "        Tree[index]=spf[arr[ss]]\n",
    "        return \n",
    "    mid= (ss+se)//2\n",
    "    BuildTree(ss,mid,2*index)\n",
    "    BuildTree(mid+1,se,2*index+1)\n",
    "    Tree[index]= max(Tree[2*index], Tree[2*index+1])\n",
    "\n",
    "\n",
    "def update(ss,se,l,r,index):\n",
    "    global Tree,arr\n",
    "    if(ss> r or l> se):\n",
    "        return\n",
    "    if(ss==se):\n",
    "        arr[ss]= arr[ss]// Tree[index]\n",
    "        Tree[index]= spf[arr[ss]]\n",
    "        return \n",
    "    mid= (ss+se)//2\n",
    "    update(ss,mid,l,r,2*index)\n",
    "    update(mid+1,se,l,r,2*index+1)\n",
    "    Tree[index]=max(Tree[2*index], Tree[2*index+1])\n",
    "    \n",
    "def query(ss,se,qs,qe,index):\n",
    "    global Tree\n",
    "    if(ss>qe or qs>se):\n",
    "        return 1\n",
    "    elif(ss>=qs and qe>= se):\n",
    "        return Tree[index]\n",
    "    \n",
    "    mid= (ss+se)//2\n",
    "    left= query(ss,mid,qs,qe,2*index)\n",
    "    right= query(mid+1,se,qs,qe,2*index+1)\n",
    "    return max(left,right)\n",
    "    \n",
    "    \n",
    "test=int(input())\n",
    "for t in range(test):\n",
    "    N,M=map(int,input().split())\n",
    "    arr=list(map(int,input().split()))\n",
    "    Tree= [0 for i in range(4*N +1)]\n",
    "    BuildTree(0,N-1,1)\n",
    "    \n",
    "    for j in range(M):\n",
    "        a,L,R=map(int,input().split())\n",
    "        L,R=L-1,R-1\n",
    "        if(a==0):\n",
    "            # update [L,R] divide by their spf\n",
    "            update(0,N-1,L,R,1)\n",
    "        else:\n",
    "            # get maximum spf in range [L,R]\n",
    "            maximum=query(0,N-1,L,R,1)\n",
    "            print(maximum,end=\" \")\n",
    "    print()    \n",
    "            \n"
   ]
  },
  {
   "cell_type": "markdown",
   "metadata": {},
   "source": [
    "# 2\n",
    "6 7\n",
    "2 5 8 10 3 44\n",
    "1 2 6\n",
    "0 2 3\n",
    "1 2 6\n",
    "0 4 6\n",
    "1 1 6\n",
    "0 1 6\n",
    "1 4 6\n",
    "2 2\n",
    "1 3\n",
    "0 2 2\n",
    "1 1 2"
   ]
  }
 ],
 "metadata": {
  "kernelspec": {
   "display_name": "Python 3",
   "language": "python",
   "name": "python3"
  },
  "language_info": {
   "codemirror_mode": {
    "name": "ipython",
    "version": 3
   },
   "file_extension": ".py",
   "mimetype": "text/x-python",
   "name": "python",
   "nbconvert_exporter": "python",
   "pygments_lexer": "ipython3",
   "version": "3.6.3"
  }
 },
 "nbformat": 4,
 "nbformat_minor": 2
}
