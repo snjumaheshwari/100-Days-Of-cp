{
 "cells": [
  {
   "cell_type": "code",
   "execution_count": 2,
   "metadata": {
    "collapsed": true
   },
   "outputs": [],
   "source": [
    "# Matrix Exponentiation"
   ]
  },
  {
   "cell_type": "code",
   "execution_count": 3,
   "metadata": {},
   "outputs": [
    {
     "name": "stdout",
     "output_type": "stream",
     "text": [
      "3\n",
      "5 8 2\n",
      "32 54 6\n",
      "4\n"
     ]
    }
   ],
   "source": [
    "k=int(input())\n",
    "b=list(map(int,input().split()))\n",
    "c=list(map(int,input().split()))\n",
    "n=int(input())\n"
   ]
  },
  {
   "cell_type": "code",
   "execution_count": 5,
   "metadata": {},
   "outputs": [
    {
     "name": "stdout",
     "output_type": "stream",
     "text": [
      "0 1 0 \n",
      "0 0 1 \n",
      "6 54 32 \n"
     ]
    }
   ],
   "source": [
    "if(n<k):\n",
    "    print(b[n])\n",
    "else:\n",
    "    #f(n)= c1 f[n-1] + c2 * f[n-2] +.... ck * f[n-k]\n",
    "    # find K ? done. \n",
    "    # intial vector => b => done\n",
    "    # Transformation Matrix\n",
    "    T=[[0]*k for i in range(k)]\n",
    "    \n",
    "    for i in range(k-1):\n",
    "        T[i][i+1]=1\n",
    "    for j in range(k):\n",
    "        T[k-1][j]=c[k-j-1]\n",
    "    \n",
    "    for i in range(k):\n",
    "        for j in range(k):\n",
    "            print(T[i][j], end=\" \")\n",
    "        print()"
   ]
  },
  {
   "cell_type": "code",
   "execution_count": 1,
   "metadata": {
    "collapsed": true
   },
   "outputs": [],
   "source": [
    "MOD=pow(10,9)+7\n",
    "\n",
    "def multiply_matrix(A,B,N,M,K):\n",
    "    # let answer =C [n*m]= A[n*k] * B[k*m]\n",
    "    C=[[0]*M for i in range(N)]\n",
    "    for i in range(N):\n",
    "        for j in range(M):\n",
    "            for k in range(K):\n",
    "                C[i][j]+=(A[i][k]* B[k][j])%MOD\n",
    "    return C\n",
    "\n"
   ]
  },
  {
   "cell_type": "code",
   "execution_count": 4,
   "metadata": {},
   "outputs": [
    {
     "name": "stdout",
     "output_type": "stream",
     "text": [
      "[[2, 19, 6], [4, 19, 8]]\n"
     ]
    }
   ],
   "source": [
    "# A= 1 2 1   B = 1 0 1\n",
    "#    3 2 1       0 9 2\n",
    "#               1 1 1\n",
    "\n",
    "A=[[1,2,1],[3,2,1]]\n",
    "B=[[1,0,1],[0,9,2],[1,1,1]]\n",
    "print(multiply_matrix(A,B,2,3,3))"
   ]
  },
  {
   "cell_type": "code",
   "execution_count": null,
   "metadata": {
    "collapsed": true
   },
   "outputs": [],
   "source": []
  },
  {
   "cell_type": "code",
   "execution_count": 5,
   "metadata": {
    "collapsed": true
   },
   "outputs": [],
   "source": [
    "def Fast_Power(A,n):\n",
    "    ans=1\n",
    "    while(n!=1):\n",
    "        if(n&1):\n",
    "            ans=ans* A\n",
    "        \n",
    "        n=n//2\n",
    "        A=A*A\n",
    "    return ans*A\n",
    "\n",
    "        "
   ]
  },
  {
   "cell_type": "code",
   "execution_count": 12,
   "metadata": {},
   "outputs": [
    {
     "data": {
      "text/plain": [
       "128"
      ]
     },
     "execution_count": 12,
     "metadata": {},
     "output_type": "execute_result"
    }
   ],
   "source": [
    "Fast_Power(2,7)"
   ]
  },
  {
   "cell_type": "code",
   "execution_count": 3,
   "metadata": {
    "collapsed": true
   },
   "outputs": [],
   "source": [
    "def Fast_Power_Matrix(A,N,power):\n",
    "    ans=[[0]*N for i in range(N)]\n",
    "    #print(ans)\n",
    "    for i in range(N):\n",
    "        ans[i][i]=1\n",
    "    while(power!=1):\n",
    "        if(power&1):\n",
    "            ans=multiply_matrix(A,ans,N,N,N)\n",
    "        power=power//2\n",
    "        A=multiply_matrix(A,A,N,N,N)\n",
    "    return multiply_matrix(A,ans,N,N,N)\n"
   ]
  },
  {
   "cell_type": "code",
   "execution_count": 8,
   "metadata": {},
   "outputs": [
    {
     "name": "stdout",
     "output_type": "stream",
     "text": [
      "[[1107920479, 815449418], [815449418, 923369890]]\n"
     ]
    }
   ],
   "source": [
    "X=Fast_Power_Matrix([[0,1],[1,1]],2,10000000000)\n",
    "print(X)"
   ]
  },
  {
   "cell_type": "code",
   "execution_count": 8,
   "metadata": {},
   "outputs": [
    {
     "data": {
      "text/plain": [
       "[[5], [8]]"
      ]
     },
     "execution_count": 8,
     "metadata": {},
     "output_type": "execute_result"
    }
   ],
   "source": [
    "multiply_matrix(X,[[0],[1]],2,1,2)"
   ]
  },
  {
   "cell_type": "code",
   "execution_count": null,
   "metadata": {
    "collapsed": true
   },
   "outputs": [],
   "source": []
  },
  {
   "cell_type": "code",
   "execution_count": null,
   "metadata": {
    "collapsed": true
   },
   "outputs": [],
   "source": []
  },
  {
   "cell_type": "code",
   "execution_count": 14,
   "metadata": {},
   "outputs": [
    {
     "name": "stdout",
     "output_type": "stream",
     "text": [
      "11\n",
      "89\n"
     ]
    }
   ],
   "source": [
    "# Given n .. find nth fibonacci sequence..\n",
    "\n",
    "n=int(input())\n",
    "F0=[[0],[1]]\n",
    "T=[[0,1],[1,1]]\n",
    "N=2\n",
    "X=Fast_Power_Matrix(T,N,n)\n",
    "Fn=multiply_matrix(X,F0,2,1,2)\n",
    "print(Fn[0][0])\n",
    "\n",
    "   \n"
   ]
  },
  {
   "cell_type": "code",
   "execution_count": 13,
   "metadata": {},
   "outputs": [
    {
     "name": "stdout",
     "output_type": "stream",
     "text": [
      "[0, 1, 1, 2, 3, 5, 8, 13, 21, 34, 55, 89, 144, 233, 377, 610, 987, 1597, 2584, 4181, 6765, 10946]\n"
     ]
    }
   ],
   "source": [
    "fib=[0,1]\n",
    "for i in range(20):\n",
    "    fib.append(fib[-1]+fib[-2])\n",
    "print(fib)"
   ]
  },
  {
   "cell_type": "code",
   "execution_count": 6,
   "metadata": {},
   "outputs": [
    {
     "name": "stdout",
     "output_type": "stream",
     "text": [
      "2\n",
      "3\n",
      "3432 2342 23423\n",
      "342 234 23\n",
      "123124\n",
      "642251198\n",
      "7\n",
      "32112 4234 2234 2234 234 63543 6533\n",
      "21 5325 66 3432 43534 645 343\n",
      "12432342\n",
      "847227769\n"
     ]
    }
   ],
   "source": [
    "# Spoj..SEQ Recursive subsequence.. => Got TLE  # accepted in C++\n",
    "\n",
    "\n",
    "MOD =pow(10,9)\n",
    "\n",
    "def Fast_Power_Matrix(A,N,power):\n",
    "    ans=[[0]*N for i in range(N)]\n",
    "    #print(ans)\n",
    "    for i in range(N):\n",
    "        ans[i][i]=1\n",
    "    while(power!=1):\n",
    "        if(power&1):\n",
    "            ans=multiply_matrix(A,ans,N,N,N)\n",
    "        power=power>>1\n",
    "        A=multiply_matrix(A,A,N,N,N)\n",
    "    return multiply_matrix(A,ans,N,N,N)\n",
    "\n",
    "def multiply_matrix(A,B,N,M,K):\n",
    "    # let answer =C [n*m]= A[n*k] * B[k*m]\n",
    "    C=[[0]*M for i in range(N)]\n",
    "    for i in range(N):\n",
    "        for j in range(M):\n",
    "            for k in range(K):\n",
    "                C[i][j]=(C[i][j]+(A[i][k]* B[k][j])%MOD)%MOD\n",
    "    return C\n",
    "\n",
    "\n",
    "test=int(input())\n",
    "for i in range(test):\n",
    "    k=int(input())\n",
    "    b=list(map(int,input().split()))\n",
    "    c=list(map(int,input().split()))\n",
    "    n=int(input())\n",
    "    \n",
    "    if(n<k):\n",
    "        print(b[n-1])\n",
    "        continue\n",
    "        \n",
    "    F0=[[i] for i in b]\n",
    "    #print(F0)\n",
    "\n",
    "    T=[[0]*k for i in range(k)]\n",
    "    for i in range(k-1):\n",
    "        T[i][i+1]=1\n",
    "    \n",
    "    for j in range(k):\n",
    "        T[k-1][j]=c[k-1-j]\n",
    "    #print(T)\n",
    "\n",
    "    n=n-1\n",
    "    X=Fast_Power_Matrix(T,k,n)\n",
    "    Fn=multiply_matrix(X,F0,k,1,k)\n",
    "    print((Fn[0][0])%MOD)\n"
   ]
  },
  {
   "cell_type": "code",
   "execution_count": null,
   "metadata": {
    "collapsed": true
   },
   "outputs": [],
   "source": [
    "# Fibosum Spoj\n",
    "#  f(1)+f(2)+f(3)+... + f(n) = f(n+2)-1 \n",
    "# f(n) =f(n+2)-f(n+1)\n",
    "# f(n)+ f(n+1)+f(n+2)+ f(n+3)+ ..... f(n+m) = f(n+m+2) -f(n+1)\n"
   ]
  }
 ],
 "metadata": {
  "kernelspec": {
   "display_name": "Python 3",
   "language": "python",
   "name": "python3"
  },
  "language_info": {
   "codemirror_mode": {
    "name": "ipython",
    "version": 3
   },
   "file_extension": ".py",
   "mimetype": "text/x-python",
   "name": "python",
   "nbconvert_exporter": "python",
   "pygments_lexer": "ipython3",
   "version": "3.6.3"
  }
 },
 "nbformat": 4,
 "nbformat_minor": 2
}
